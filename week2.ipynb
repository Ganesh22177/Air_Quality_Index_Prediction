{
 "cells": [
  {
   "cell_type": "code",
   "execution_count": null,
   "id": "9f75bb90-8b23-47f9-9516-17c8b2ca9b02",
   "metadata": {},
   "outputs": [],
   "source": []
  }
 ],
 "metadata": {
  "kernelspec": {
   "display_name": "",
   "name": ""
  },
  "language_info": {
   "name": ""
  }
 },
 "nbformat": 4,
 "nbformat_minor": 5
}
